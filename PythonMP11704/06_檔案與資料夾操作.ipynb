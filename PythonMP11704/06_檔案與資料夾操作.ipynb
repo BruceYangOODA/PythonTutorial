{
 "cells": [
  {
   "cell_type": "markdown",
   "metadata": {},
   "source": [
    "### 06_檔案與資料夾操作"
   ]
  },
  {
   "cell_type": "code",
   "execution_count": 16,
   "metadata": {},
   "outputs": [],
   "source": [
    "import os,csv\n",
    "file_name = \"test.csv\"\n",
    "file = os.path.join(\"data\",file_name)\n",
    "\n",
    "with open(file, \"w\", newline=\"\") as fp:\n",
    "    test_writer = csv.writer(fp, delimiter=\" \", quotechar='\"')\n",
    "    test_writer.writerow([\"red\",\"blue\",\"green\"])\n",
    "    test_writer.writerow([\"test_string\"] * 5)"
   ]
  },
  {
   "cell_type": "code",
   "execution_count": 18,
   "metadata": {},
   "outputs": [
    {
     "name": "stdout",
     "output_type": "stream",
     "text": [
      "red,blue,green\n",
      "test_string,test_string,test_string,test_string,test_string\n"
     ]
    }
   ],
   "source": [
    "with open(file, newline=\"\") as fp:\n",
    "    test_reader = csv.reader(fp, delimiter=\" \", quotechar='\"')\n",
    "    for row in test_reader:\n",
    "        print(\",\".join(row))"
   ]
  },
  {
   "cell_type": "code",
   "execution_count": 21,
   "metadata": {},
   "outputs": [
    {
     "name": "stdout",
     "output_type": "stream",
     "text": [
      "['姓氏', '名字']\n",
      "張 \t 三\n",
      "李 \t 四\n",
      "王 \t 五\n"
     ]
    }
   ],
   "source": [
    "file = os.path.join(\"data\",\"name.csv\")\n",
    "with open(file, \"w\") as fp:\n",
    "    headers = [\"姓氏\",\"名字\"]\n",
    "    test_dictWriter = csv.DictWriter(fp, fieldnames=headers)\n",
    "    test_dictWriter.writeheader() # 寫入header 表頭資訊\n",
    "    test_dictWriter.writerow({\"姓氏\":\"張\",\"名字\":\"三\"})\n",
    "    test_dictWriter.writerow({\"姓氏\":\"李\",\"名字\":\"四\"})\n",
    "    test_dictWriter.writerow({\"姓氏\":\"王\",\"名字\":\"五\"})\n",
    "    \n",
    "with open(file) as fp:\n",
    "    test_dictReader = csv.DictReader(fp)\n",
    "    print(test_dictReader.fieldnames)\n",
    "    for row in test_dictReader:\n",
    "        print(row[\"姓氏\"],\"\\t\",row[\"名字\"])"
   ]
  },
  {
   "cell_type": "code",
   "execution_count": 24,
   "metadata": {},
   "outputs": [
    {
     "name": "stdout",
     "output_type": "stream",
     "text": [
      "7\n",
      "13000000\n",
      "99.056\n",
      "中國人民 123abc\n",
      "[[1, 2, 3], [4, 5, 6], [7, 8, 9]]\n",
      "(-5, 10, 8)\n",
      "{4, 5, 6}\n",
      "{'a': 'apple', 'b': 'banana', 'c': 'cherry'}\n"
     ]
    }
   ],
   "source": [
    "# 06-09.py\n",
    "import pickle\n",
    "number = 7\n",
    "number2 = 13000000\n",
    "number3 = 99.056\n",
    "string = \"中國人民 123abc\"\n",
    "lis = [[1,2,3],[4,5,6],[7,8,9]]\n",
    "tupl = (-5,10,8)\n",
    "sett = {4,5,6}\n",
    "dic = {\"a\":\"apple\",\"b\":\"banana\",\"c\":\"cherry\"}\n",
    "file = os.path.join(\"data\",\"sample_pickle.dat\")\n",
    "fp = open(file, \"wb\") #以二進位開始寫入模式\n",
    "try:\n",
    "    pickle.dump(number,fp)\n",
    "    pickle.dump(number2,fp)\n",
    "    pickle.dump(number3,fp)\n",
    "    pickle.dump(string,fp)\n",
    "    pickle.dump(lis,fp)\n",
    "    pickle.dump(tupl,fp)\n",
    "    pickle.dump(sett,fp)\n",
    "    pickle.dump(dic,fp)\n",
    "except:\n",
    "    print(\"write file error\")\n",
    "finally:\n",
    "    fp.close()\n",
    "    \n",
    "with open(file,\"rb\") as fp:\n",
    "    data = pickle.load(fp)\n",
    "    while data:    \n",
    "        print(data)\n",
    "        try:\n",
    "            data = pickle.load(fp)\n",
    "        except:\n",
    "            data = None"
   ]
  },
  {
   "cell_type": "code",
   "execution_count": 37,
   "metadata": {},
   "outputs": [
    {
     "name": "stdout",
     "output_type": "stream",
     "text": [
      "['.ipynb_checkpoints', '06_檔案與資料夾操作.ipynb', 'data', 'MP11704_Example', 'MP11704_example.zip', '__pycache__']\n",
      "os.stat_result(st_mode=33206, st_ino=11821949023218526, st_dev=1615654794, st_nlink=1, st_uid=0, st_gid=0, st_size=3254137, st_atime=1608794361, st_mtime=1608794361, st_ctime=1608794325)\n"
     ]
    }
   ],
   "source": [
    "import os\n",
    "print(os.listdir(\".\"))\n",
    "path = os.path.abspath(\".\")\n",
    "path = os.path.join(path,\"MP11704_example.zip\")\n",
    "print(os.stat(path))"
   ]
  },
  {
   "cell_type": "code",
   "execution_count": 40,
   "metadata": {},
   "outputs": [
    {
     "name": "stdout",
     "output_type": "stream",
     "text": [
      "text:'test'\n",
      "test\n"
     ]
    }
   ],
   "source": [
    "# 06-16.py\n",
    "from xlwt import *\n",
    "\n",
    "book = Workbook() # 建立新的Excel檔案\n",
    "sheet1 = book.add_sheet(\"First\")\n",
    "al = Alignment()\n",
    "al.horz = Alignment.HORZ_CENTER\n",
    "al.vert = Alignment.VERT_CENTER\n",
    "borders = Borders()\n",
    "borders.bottom = Borders.THICK\n",
    "style = XFStyle()\n",
    "style.alignment = al\n",
    "style.borders = borders\n",
    "row0 = sheet1.row(0) # 擷取第 0 row\n",
    "row0.write(0, \"test\", style=style) #寫入儲存格\n",
    "path = os.path.join(\"data\",\"test.xls\")\n",
    "book.save(path)\n",
    "\n",
    "import xlrd\n",
    "l_book = xlrd.open_workbook(path) # 開啟Excel檔案\n",
    "l_sheet = l_book.sheet_by_name(\"First\")\n",
    "row = l_sheet.row(0)\n",
    "print(row[0])\n",
    "print(row[0].value)"
   ]
  },
  {
   "cell_type": "markdown",
   "metadata": {},
   "source": [
    "Python與Win32連動  \n",
    "06-18_1.py  \n",
    "06-18_2.py  \n",
    "06-18_3.py"
   ]
  },
  {
   "cell_type": "code",
   "execution_count": 43,
   "metadata": {},
   "outputs": [
    {
     "name": "stdout",
     "output_type": "stream",
     "text": [
      "Hellow World\n"
     ]
    }
   ],
   "source": [
    "# 06-24.py\n",
    "import openpyxl\n",
    "from openpyxl import Workbook  \n",
    "path = os.path.join(\"data\",\"test.xlsx\")\n",
    "wb = Workbook()  \n",
    "ws = wb.create_sheet(title=\"First\")  \n",
    "ws[\"A1\"] = \"Hellow World\"  \n",
    "wb.save(path)\n",
    "\n",
    "l_wb = openpyxl.load_workbook(path)\n",
    "l_ws = wb.worksheets[1]\n",
    "print(l_ws[\"A1\"].value)\n",
    "l_ws.append([1,2,3,4,5]) #加入一列資料\n",
    "l_ws.merge_cells('F2:F3') #合併儲存格\n",
    "l_ws['F2'] = \"=sum(A2:E2)\" #寫入公式\n",
    "for r in range(10,15):\n",
    "    for c in range(3,8):\n",
    "        _ = l_ws.cell(row=r, column=c, value=r*c)\t#寫入儲存格資料\n",
    "l_wb.save(path)"
   ]
  },
  {
   "cell_type": "markdown",
   "metadata": {},
   "source": [
    "將指定資料夾的檔案壓縮至既有壓縮檔  \n",
    "06-29.py "
   ]
  },
  {
   "cell_type": "code",
   "execution_count": null,
   "metadata": {},
   "outputs": [],
   "source": []
  }
 ],
 "metadata": {
  "kernelspec": {
   "display_name": "Python 3",
   "language": "python",
   "name": "python3"
  },
  "language_info": {
   "codemirror_mode": {
    "name": "ipython",
    "version": 3
   },
   "file_extension": ".py",
   "mimetype": "text/x-python",
   "name": "python",
   "nbconvert_exporter": "python",
   "pygments_lexer": "ipython3",
   "version": "3.6.12"
  }
 },
 "nbformat": 4,
 "nbformat_minor": 4
}
